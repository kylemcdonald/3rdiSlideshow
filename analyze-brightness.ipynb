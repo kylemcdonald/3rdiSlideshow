{
 "cells": [
  {
   "cell_type": "code",
   "execution_count": 4,
   "metadata": {},
   "outputs": [
    {
     "name": "stderr",
     "output_type": "stream",
     "text": [
      "100%|██████████| 432925/432925 [03:24<00:00, 2113.56it/s]\n"
     ]
    }
   ],
   "source": [
    "from thirdi_utils import load_image_list\n",
    "import os\n",
    "import turbojpeg\n",
    "import numpy as np\n",
    "import warnings\n",
    "import pickle\n",
    "from thirdi_utils import parallel\n",
    "\n",
    "def get_brightness(fn):\n",
    "    tj = turbojpeg.TurboJPEG()\n",
    "    warnings.filterwarnings(\"error\")\n",
    "    try:\n",
    "        with open(fn, 'rb') as f:\n",
    "            img = tj.decode(f.read())\n",
    "        mean = np.median(img)\n",
    "        return mean\n",
    "    except:\n",
    "        return None\n",
    "\n",
    "def build_brightness_list():\n",
    "    image_list = load_image_list()\n",
    "    filenames = [e[1] for e in image_list]\n",
    "    brightness_list = parallel(get_brightness, filenames)\n",
    "    return brightness_list\n",
    "\n",
    "def load_brightness_list():\n",
    "    cache_fn = \"brightness_list.pkl\"\n",
    "    if os.path.exists(cache_fn):\n",
    "        with open(cache_fn, \"rb\") as f:\n",
    "            return pickle.load(f)\n",
    "    else:\n",
    "        brightness_list = build_brightness_list()\n",
    "        with open(cache_fn, \"wb\") as f:\n",
    "            pickle.dump(brightness_list, f)\n",
    "        return brightness_list\n",
    "    \n",
    "brightness_list = load_brightness_list()"
   ]
  },
  {
   "cell_type": "code",
   "execution_count": 3,
   "metadata": {},
   "outputs": [
    {
     "name": "stdout",
     "output_type": "stream",
     "text": [
      "(datetime.datetime(2010, 12, 12, 12, 50, 37), 'images/12-12-2010/12-50-37.jpg'): 15.688551945832799\n"
     ]
    }
   ],
   "source": [
    "image_list = load_image_list()\n",
    "for fn, brightness in zip(image_list, brightness_list):\n",
    "    print(f\"{fn}: {brightness}\")\n",
    "    break"
   ]
  },
  {
   "cell_type": "code",
   "execution_count": 32,
   "metadata": {},
   "outputs": [],
   "source": [
    "from collections import defaultdict\n",
    "\n",
    "def build_time_of_day():\n",
    "    threshold = 5\n",
    "    image_list = load_image_list()\n",
    "    brightness_list = load_brightness_list()\n",
    "    by_time_of_day = defaultdict(list)\n",
    "    for pair, brightness in zip(image_list, brightness_list):\n",
    "        if brightness is None:\n",
    "            # almost 60 images are \"broken\"\n",
    "            continue\n",
    "        if brightness < threshold:\n",
    "            continue\n",
    "        timestamp, fn = pair\n",
    "        time_of_day = f\"{timestamp.hour:02d}:{timestamp.minute:02d}\"\n",
    "        month_and_day = int(f\"{timestamp.month:02d}{timestamp.day:02d}\")\n",
    "        by_time_of_day[time_of_day].append((month_and_day, fn))\n",
    "        \n",
    "    for k, v in by_time_of_day.items():\n",
    "        by_time_of_day[k] = sorted(v)\n",
    "        \n",
    "    return by_time_of_day\n",
    "\n",
    "by_time_of_day = build_time_of_day()"
   ]
  },
  {
   "cell_type": "code",
   "execution_count": 28,
   "metadata": {},
   "outputs": [
    {
     "data": {
      "text/plain": [
       "('fewest photos', 19, 'of', 1440)"
      ]
     },
     "execution_count": 28,
     "metadata": {},
     "output_type": "execute_result"
    }
   ],
   "source": [
    "\"fewest photos\", min([len(v) for v in by_time_of_day.values()]), 'of', len(by_time_of_day)"
   ]
  },
  {
   "cell_type": "code",
   "execution_count": 34,
   "metadata": {},
   "outputs": [],
   "source": [
    "# by_time_of_day[\"18:00\"]"
   ]
  },
  {
   "cell_type": "code",
   "execution_count": 74,
   "metadata": {},
   "outputs": [],
   "source": [
    "import datetime\n",
    "from bisect import bisect_left\n",
    "\n",
    "def get_image_path(dt):\n",
    "    time_of_day = f\"{dt.hour:02d}:{dt.minute:02d}\"\n",
    "    options = by_time_of_day[time_of_day]\n",
    "    month_and_day = int(f\"{dt.month:02d}{dt.day:02d}\")\n",
    "    idx = bisect_left(options, (month_and_day, \"\"))\n",
    "    idx = min(idx, len(options) - 1)\n",
    "    fn = options[idx][1]\n",
    "    return fn"
   ]
  },
  {
   "cell_type": "code",
   "execution_count": null,
   "metadata": {},
   "outputs": [],
   "source": [
    "with open('entire-year.txt', 'w') as f:\n",
    "    for month in range(1,13):\n",
    "        for day in range(1, 32):\n",
    "            for hour in range(24):\n",
    "                for minute in range(0, 60):\n",
    "                    try:\n",
    "                        dt = datetime.datetime(2020, month, day, hour, minute)\n",
    "                    except ValueError:\n",
    "                        continue\n",
    "                    fn = get_image_path(dt)\n",
    "                    f.write(f\"{fn}\\n\")"
   ]
  },
  {
   "cell_type": "code",
   "execution_count": 27,
   "metadata": {},
   "outputs": [
    {
     "data": {
      "image/png": "[encoded data removed]",
      "text/plain": [
       "<Figure size 640x480 with 1 Axes>"
      ]
     },
     "metadata": {},
     "output_type": "display_data"
    }
   ],
   "source": [
    "import matplotlib.pyplot as plt\n",
    "plt.hist([e for e in brightnesses if e is not None], bins=64)\n",
    "plt.yscale('log')\n",
    "plt.show()"
   ]
  },
  {
   "cell_type": "code",
   "execution_count": 28,
   "metadata": {},
   "outputs": [],
   "source": [
    "paired = list(zip(brightnesses, filenames))\n",
    "paired = [e for e in paired if e[0] is not None]\n",
    "paired.sort()"
   ]
  },
  {
   "cell_type": "code",
   "execution_count": 29,
   "metadata": {},
   "outputs": [],
   "source": [
    "from utils.imutil import imshow, imread, imwrite\n",
    "from utils.mosaic import make_mosaic\n",
    "from bisect import bisect_left\n",
    "idx = [bisect_left(paired, (i, '')) for i in np.linspace(0, paired[-1][0], 256)]\n",
    "images = [imread(paired[i][1]) for i in idx]\n",
    "mosaic = make_mosaic(images)"
   ]
  },
  {
   "cell_type": "code",
   "execution_count": 30,
   "metadata": {},
   "outputs": [
    {
     "data": {
      "text/plain": [
       "True"
      ]
     },
     "execution_count": 30,
     "metadata": {},
     "output_type": "execute_result"
    }
   ],
   "source": [
    "imwrite('mosaic.jpg', mosaic)"
   ]
  },
  {
   "cell_type": "code",
   "execution_count": null,
   "metadata": {},
   "outputs": [],
   "source": []
  }
 ],
 "metadata": {
  "kernelspec": {
   "display_name": "datascience",
   "language": "python",
   "name": "python3"
  },
  "language_info": {
   "codemirror_mode": {
    "name": "ipython",
    "version": 3
   },
   "file_extension": ".py",
   "mimetype": "text/x-python",
   "name": "python",
   "nbconvert_exporter": "python",
   "pygments_lexer": "ipython3",
   "version": "3.11.9"
  }
 },
 "nbformat": 4,
 "nbformat_minor": 2
}
